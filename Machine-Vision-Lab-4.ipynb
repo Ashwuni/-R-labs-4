{
  "nbformat": 4,
  "nbformat_minor": 5,
  "metadata": {
    "kernelspec": {
      "display_name": "Python 3",
      "language": "python",
      "name": "python3"
    },
    "language_info": {
      "codemirror_mode": {
        "name": "ipython",
        "version": 3
      },
      "file_extension": ".py",
      "mimetype": "text/x-python",
      "name": "python",
      "nbconvert_exporter": "python",
      "pygments_lexer": "ipython3",
      "version": "3.9.2"
    },
    "colab": {
      "name": "Copy of Assignment_4_Template",
      "provenance": [],
      "collapsed_sections": []
    }
  },
  "cells": [
    {
      "cell_type": "markdown",
      "metadata": {
        "id": "turkish-yellow"
      },
      "source": [
        ""
      ],
      "id": "turkish-yellow"
    },
    {
      "cell_type": "code",
      "metadata": {
        "id": "distinguished-reaction"
      },
      "source": [
        "import tensorflow as tf\n",
        "import matplotlib.pyplot as plt"
      ],
      "id": "distinguished-reaction",
      "execution_count": null,
      "outputs": []
    },
    {
      "cell_type": "code",
      "metadata": {
        "id": "pediatric-thanksgiving"
      },
      "source": [
        "train, test = tf.keras.datasets.fashion_mnist.load_data()\n",
        "x_train, y_train = train\n",
        "x_test,  y_test  = test"
      ],
      "id": "pediatric-thanksgiving",
      "execution_count": null,
      "outputs": []
    },
    {
      "cell_type": "code",
      "metadata": {
        "id": "assumed-counter",
        "colab": {
          "base_uri": "https://localhost:8080/"
        },
        "outputId": "5e64712a-d0a8-4486-cc68-71504133bfd5"
      },
      "source": [
        "x_train[0,:,:]"
      ],
      "id": "assumed-counter",
      "execution_count": null,
      "outputs": [
        {
          "output_type": "execute_result",
          "data": {
            "text/plain": [
              "array([[  0,   0,   0,   0,   0,   0,   0,   0,   0,   0,   0,   0,   0,\n",
              "          0,   0,   0,   0,   0,   0,   0,   0,   0,   0,   0,   0,   0,\n",
              "          0,   0],\n",
              "       [  0,   0,   0,   0,   0,   0,   0,   0,   0,   0,   0,   0,   0,\n",
              "          0,   0,   0,   0,   0,   0,   0,   0,   0,   0,   0,   0,   0,\n",
              "          0,   0],\n",
              "       [  0,   0,   0,   0,   0,   0,   0,   0,   0,   0,   0,   0,   0,\n",
              "          0,   0,   0,   0,   0,   0,   0,   0,   0,   0,   0,   0,   0,\n",
              "          0,   0],\n",
              "       [  0,   0,   0,   0,   0,   0,   0,   0,   0,   0,   0,   0,   1,\n",
              "          0,   0,  13,  73,   0,   0,   1,   4,   0,   0,   0,   0,   1,\n",
              "          1,   0],\n",
              "       [  0,   0,   0,   0,   0,   0,   0,   0,   0,   0,   0,   0,   3,\n",
              "          0,  36, 136, 127,  62,  54,   0,   0,   0,   1,   3,   4,   0,\n",
              "          0,   3],\n",
              "       [  0,   0,   0,   0,   0,   0,   0,   0,   0,   0,   0,   0,   6,\n",
              "          0, 102, 204, 176, 134, 144, 123,  23,   0,   0,   0,   0,  12,\n",
              "         10,   0],\n",
              "       [  0,   0,   0,   0,   0,   0,   0,   0,   0,   0,   0,   0,   0,\n",
              "          0, 155, 236, 207, 178, 107, 156, 161, 109,  64,  23,  77, 130,\n",
              "         72,  15],\n",
              "       [  0,   0,   0,   0,   0,   0,   0,   0,   0,   0,   0,   1,   0,\n",
              "         69, 207, 223, 218, 216, 216, 163, 127, 121, 122, 146, 141,  88,\n",
              "        172,  66],\n",
              "       [  0,   0,   0,   0,   0,   0,   0,   0,   0,   1,   1,   1,   0,\n",
              "        200, 232, 232, 233, 229, 223, 223, 215, 213, 164, 127, 123, 196,\n",
              "        229,   0],\n",
              "       [  0,   0,   0,   0,   0,   0,   0,   0,   0,   0,   0,   0,   0,\n",
              "        183, 225, 216, 223, 228, 235, 227, 224, 222, 224, 221, 223, 245,\n",
              "        173,   0],\n",
              "       [  0,   0,   0,   0,   0,   0,   0,   0,   0,   0,   0,   0,   0,\n",
              "        193, 228, 218, 213, 198, 180, 212, 210, 211, 213, 223, 220, 243,\n",
              "        202,   0],\n",
              "       [  0,   0,   0,   0,   0,   0,   0,   0,   0,   1,   3,   0,  12,\n",
              "        219, 220, 212, 218, 192, 169, 227, 208, 218, 224, 212, 226, 197,\n",
              "        209,  52],\n",
              "       [  0,   0,   0,   0,   0,   0,   0,   0,   0,   0,   6,   0,  99,\n",
              "        244, 222, 220, 218, 203, 198, 221, 215, 213, 222, 220, 245, 119,\n",
              "        167,  56],\n",
              "       [  0,   0,   0,   0,   0,   0,   0,   0,   0,   4,   0,   0,  55,\n",
              "        236, 228, 230, 228, 240, 232, 213, 218, 223, 234, 217, 217, 209,\n",
              "         92,   0],\n",
              "       [  0,   0,   1,   4,   6,   7,   2,   0,   0,   0,   0,   0, 237,\n",
              "        226, 217, 223, 222, 219, 222, 221, 216, 223, 229, 215, 218, 255,\n",
              "         77,   0],\n",
              "       [  0,   3,   0,   0,   0,   0,   0,   0,   0,  62, 145, 204, 228,\n",
              "        207, 213, 221, 218, 208, 211, 218, 224, 223, 219, 215, 224, 244,\n",
              "        159,   0],\n",
              "       [  0,   0,   0,   0,  18,  44,  82, 107, 189, 228, 220, 222, 217,\n",
              "        226, 200, 205, 211, 230, 224, 234, 176, 188, 250, 248, 233, 238,\n",
              "        215,   0],\n",
              "       [  0,  57, 187, 208, 224, 221, 224, 208, 204, 214, 208, 209, 200,\n",
              "        159, 245, 193, 206, 223, 255, 255, 221, 234, 221, 211, 220, 232,\n",
              "        246,   0],\n",
              "       [  3, 202, 228, 224, 221, 211, 211, 214, 205, 205, 205, 220, 240,\n",
              "         80, 150, 255, 229, 221, 188, 154, 191, 210, 204, 209, 222, 228,\n",
              "        225,   0],\n",
              "       [ 98, 233, 198, 210, 222, 229, 229, 234, 249, 220, 194, 215, 217,\n",
              "        241,  65,  73, 106, 117, 168, 219, 221, 215, 217, 223, 223, 224,\n",
              "        229,  29],\n",
              "       [ 75, 204, 212, 204, 193, 205, 211, 225, 216, 185, 197, 206, 198,\n",
              "        213, 240, 195, 227, 245, 239, 223, 218, 212, 209, 222, 220, 221,\n",
              "        230,  67],\n",
              "       [ 48, 203, 183, 194, 213, 197, 185, 190, 194, 192, 202, 214, 219,\n",
              "        221, 220, 236, 225, 216, 199, 206, 186, 181, 177, 172, 181, 205,\n",
              "        206, 115],\n",
              "       [  0, 122, 219, 193, 179, 171, 183, 196, 204, 210, 213, 207, 211,\n",
              "        210, 200, 196, 194, 191, 195, 191, 198, 192, 176, 156, 167, 177,\n",
              "        210,  92],\n",
              "       [  0,   0,  74, 189, 212, 191, 175, 172, 175, 181, 185, 188, 189,\n",
              "        188, 193, 198, 204, 209, 210, 210, 211, 188, 188, 194, 192, 216,\n",
              "        170,   0],\n",
              "       [  2,   0,   0,   0,  66, 200, 222, 237, 239, 242, 246, 243, 244,\n",
              "        221, 220, 193, 191, 179, 182, 182, 181, 176, 166, 168,  99,  58,\n",
              "          0,   0],\n",
              "       [  0,   0,   0,   0,   0,   0,   0,  40,  61,  44,  72,  41,  35,\n",
              "          0,   0,   0,   0,   0,   0,   0,   0,   0,   0,   0,   0,   0,\n",
              "          0,   0],\n",
              "       [  0,   0,   0,   0,   0,   0,   0,   0,   0,   0,   0,   0,   0,\n",
              "          0,   0,   0,   0,   0,   0,   0,   0,   0,   0,   0,   0,   0,\n",
              "          0,   0],\n",
              "       [  0,   0,   0,   0,   0,   0,   0,   0,   0,   0,   0,   0,   0,\n",
              "          0,   0,   0,   0,   0,   0,   0,   0,   0,   0,   0,   0,   0,\n",
              "          0,   0]], dtype=uint8)"
            ]
          },
          "metadata": {
            "tags": []
          },
          "execution_count": 25
        }
      ]
    },
    {
      "cell_type": "code",
      "metadata": {
        "id": "39tl3hMzG4lp",
        "colab": {
          "base_uri": "https://localhost:8080/",
          "height": 248
        },
        "outputId": "08aaaa32-083e-4057-cb3b-b4530ae96561"
      },
      "source": [
        "digit = x_train[16,:,:]\n",
        "\n",
        "plt.imshow(digit, cmap='gray');\n",
        "plt.axis('off');\n",
        "\n"
      ],
      "id": "39tl3hMzG4lp",
      "execution_count": null,
      "outputs": [
        {
          "output_type": "display_data",
          "data": {
            "image/png": "[encoded data removed]",
            "text/plain": [
              "<Figure size 432x288 with 1 Axes>"
            ]
          },
          "metadata": {
            "tags": [],
            "needs_background": "light"
          }
        }
      ]
    },
    {
      "cell_type": "code",
      "metadata": {
        "colab": {
          "base_uri": "https://localhost:8080/",
          "height": 248
        },
        "id": "PiYIEoD62VEl",
        "outputId": "3840c636-0bdf-4c6c-d68a-001057a4d2d8"
      },
      "source": [
        "digit = x_train[100,:,:]\n",
        "\n",
        "plt.imshow(digit, cmap='gray');\n",
        "plt.axis('off');\n",
        "\n"
      ],
      "id": "PiYIEoD62VEl",
      "execution_count": null,
      "outputs": [
        {
          "output_type": "display_data",
          "data": {
            "image/png": "[encoded data removed]",
            "text/plain": [
              "<Figure size 432x288 with 1 Axes>"
            ]
          },
          "metadata": {
            "tags": [],
            "needs_background": "light"
          }
        }
      ]
    },
    {
      "cell_type": "code",
      "metadata": {
        "colab": {
          "base_uri": "https://localhost:8080/",
          "height": 248
        },
        "id": "sLm-DdZ82d7f",
        "outputId": "19f0b817-5ff9-4426-c7b7-d55bcb5c6ad7"
      },
      "source": [
        "digit = x_train[15,:,:]\n",
        "\n",
        "plt.imshow(digit, cmap='gray');\n",
        "plt.axis('off');"
      ],
      "id": "sLm-DdZ82d7f",
      "execution_count": null,
      "outputs": [
        {
          "output_type": "display_data",
          "data": {
            "image/png": "[encoded data removed]",
            "text/plain": [
              "<Figure size 432x288 with 1 Axes>"
            ]
          },
          "metadata": {
            "tags": [],
            "needs_background": "light"
          }
        }
      ]
    },
    {
      "cell_type": "markdown",
      "metadata": {
        "id": "s4xdyyBgZDCz"
      },
      "source": [
        "Q1.3"
      ],
      "id": "s4xdyyBgZDCz"
    },
    {
      "cell_type": "code",
      "metadata": {
        "id": "jNjBz869Xesr"
      },
      "source": [
        "# reshape\n",
        "x_train = x_train.reshape(-1, 784)\n",
        "x_test  = x_test.reshape(-1, 784)\n",
        "# rescale\n",
        "x_train = x_train / 255\n",
        "x_test  = x_test / 255"
      ],
      "id": "jNjBz869Xesr",
      "execution_count": null,
      "outputs": []
    },
    {
      "cell_type": "code",
      "metadata": {
        "id": "m-oAB75kZLZU"
      },
      "source": [
        "y_train = tf.keras.utils.to_categorical(y_train)\n",
        "y_test  = tf.keras.utils.to_categorical(y_test)"
      ],
      "id": "m-oAB75kZLZU",
      "execution_count": null,
      "outputs": []
    },
    {
      "cell_type": "code",
      "metadata": {
        "id": "vkMD8-KqZao0"
      },
      "source": [
        "model = tf.keras.models.Sequential([\n",
        "  tf.keras.layers.Dense(256, activation='relu', input_shape=(784,)),\n",
        "  tf.keras.layers.Dense(128, activation=\"relu\"),\n",
        "  tf.keras.layers.Dense(10,  activation=\"softmax\")\n",
        "])"
      ],
      "id": "vkMD8-KqZao0",
      "execution_count": null,
      "outputs": []
    },
    {
      "cell_type": "code",
      "metadata": {
        "id": "3gwGlqu1Zfhu"
      },
      "source": [
        "model.compile(\n",
        "    optimizer = tf.keras.optimizers.Adam(),\n",
        "    loss      = tf.keras.losses.CategoricalCrossentropy(),\n",
        "    metrics   = [tf.keras.metrics.CategoricalAccuracy()],\n",
        ")"
      ],
      "id": "3gwGlqu1Zfhu",
      "execution_count": null,
      "outputs": []
    },
    {
      "cell_type": "code",
      "metadata": {
        "colab": {
          "base_uri": "https://localhost:8080/"
        },
        "id": "4vU_SadAZjXd",
        "outputId": "03a7c257-ab7c-439b-eaf4-08c9dc28f3c6"
      },
      "source": [
        "model.fit(\n",
        "    x_train,y_train,\n",
        "    epochs=10,\n",
        "    batch_size= 128,\n",
        "    validation_split=0.2,\n",
        ")"
      ],
      "id": "4vU_SadAZjXd",
      "execution_count": null,
      "outputs": [
        {
          "output_type": "stream",
          "text": [
            "Epoch 1/10\n",
            "375/375 [==============================] - 3s 7ms/step - loss: 0.7170 - categorical_accuracy: 0.7524 - val_loss: 0.4236 - val_categorical_accuracy: 0.8475\n",
            "Epoch 2/10\n",
            "375/375 [==============================] - 2s 7ms/step - loss: 0.3845 - categorical_accuracy: 0.8639 - val_loss: 0.3765 - val_categorical_accuracy: 0.8624\n",
            "Epoch 3/10\n",
            "375/375 [==============================] - 2s 7ms/step - loss: 0.3397 - categorical_accuracy: 0.8775 - val_loss: 0.3498 - val_categorical_accuracy: 0.8714\n",
            "Epoch 4/10\n",
            "375/375 [==============================] - 3s 7ms/step - loss: 0.3190 - categorical_accuracy: 0.8817 - val_loss: 0.3458 - val_categorical_accuracy: 0.8715\n",
            "Epoch 5/10\n",
            "375/375 [==============================] - 3s 7ms/step - loss: 0.2934 - categorical_accuracy: 0.8919 - val_loss: 0.3247 - val_categorical_accuracy: 0.8803\n",
            "Epoch 6/10\n",
            "375/375 [==============================] - 3s 7ms/step - loss: 0.2801 - categorical_accuracy: 0.8952 - val_loss: 0.3169 - val_categorical_accuracy: 0.8885\n",
            "Epoch 7/10\n",
            "375/375 [==============================] - 3s 7ms/step - loss: 0.2597 - categorical_accuracy: 0.9038 - val_loss: 0.3171 - val_categorical_accuracy: 0.8830\n",
            "Epoch 8/10\n",
            "375/375 [==============================] - 3s 7ms/step - loss: 0.2429 - categorical_accuracy: 0.9074 - val_loss: 0.3117 - val_categorical_accuracy: 0.8885\n",
            "Epoch 9/10\n",
            "375/375 [==============================] - 3s 7ms/step - loss: 0.2320 - categorical_accuracy: 0.9124 - val_loss: 0.3275 - val_categorical_accuracy: 0.8854\n",
            "Epoch 10/10\n",
            "375/375 [==============================] - 3s 7ms/step - loss: 0.2287 - categorical_accuracy: 0.9146 - val_loss: 0.3051 - val_categorical_accuracy: 0.8917\n"
          ],
          "name": "stdout"
        },
        {
          "output_type": "execute_result",
          "data": {
            "text/plain": [
              "<tensorflow.python.keras.callbacks.History at 0x7fc701d62450>"
            ]
          },
          "metadata": {
            "tags": []
          },
          "execution_count": 33
        }
      ]
    },
    {
      "cell_type": "code",
      "metadata": {
        "colab": {
          "base_uri": "https://localhost:8080/"
        },
        "id": "GkFT-JPMZpEH",
        "outputId": "52dcb5a9-335e-48b4-f6b7-e4fac0392a70"
      },
      "source": [
        "model.evaluate(x_test, y_test)"
      ],
      "id": "GkFT-JPMZpEH",
      "execution_count": null,
      "outputs": [
        {
          "output_type": "stream",
          "text": [
            "313/313 [==============================] - 0s 2ms/step - loss: 0.3288 - categorical_accuracy: 0.8830\n"
          ],
          "name": "stdout"
        },
        {
          "output_type": "execute_result",
          "data": {
            "text/plain": [
              "[0.32875728607177734, 0.8830000162124634]"
            ]
          },
          "metadata": {
            "tags": []
          },
          "execution_count": 34
        }
      ]
    },
    {
      "cell_type": "markdown",
      "metadata": {
        "id": "SmqA_enbsbXu"
      },
      "source": [
        "Q.4 Shallow"
      ],
      "id": "SmqA_enbsbXu"
    },
    {
      "cell_type": "code",
      "metadata": {
        "colab": {
          "base_uri": "https://localhost:8080/"
        },
        "id": "ZPAMDTR5s_xp",
        "outputId": "107b1d3d-4ea1-4d64-a7d0-098580c554da"
      },
      "source": [
        "model = tf.keras.models.Sequential([\n",
        "  tf.keras.layers.Dense(32, activation='relu', input_shape=(784,)),\n",
        "  tf.keras.layers.Dense(10,  activation=\"softmax\")\n",
        "])\n",
        "model.summary()\n",
        "\n",
        "model.compile(\n",
        "    optimizer = tf.keras.optimizers.Adam(),\n",
        "    loss      = tf.keras.losses.CategoricalCrossentropy(),\n",
        "    metrics   = [tf.keras.metrics.CategoricalAccuracy()],\n",
        ")\n",
        "\n",
        "model.fit(\n",
        "    x_train,y_train,\n",
        "    epochs=10,\n",
        "    batch_size= 128,\n",
        "    validation_split=0.2,\n",
        ")\n",
        "\n",
        "model.evaluate(x_test, y_test)"
      ],
      "id": "ZPAMDTR5s_xp",
      "execution_count": null,
      "outputs": [
        {
          "output_type": "stream",
          "text": [
            "Model: \"sequential_11\"\n",
            "_________________________________________________________________\n",
            "Layer (type)                 Output Shape              Param #   \n",
            "=================================================================\n",
            "dense_30 (Dense)             (None, 32)                25120     \n",
            "_________________________________________________________________\n",
            "dense_31 (Dense)             (None, 10)                330       \n",
            "=================================================================\n",
            "Total params: 25,450\n",
            "Trainable params: 25,450\n",
            "Non-trainable params: 0\n",
            "_________________________________________________________________\n",
            "Epoch 1/10\n",
            "375/375 [==============================] - 2s 3ms/step - loss: 1.0019 - categorical_accuracy: 0.6694 - val_loss: 0.5041 - val_categorical_accuracy: 0.8292\n",
            "Epoch 2/10\n",
            "375/375 [==============================] - 1s 3ms/step - loss: 0.4792 - categorical_accuracy: 0.8376 - val_loss: 0.4566 - val_categorical_accuracy: 0.8417\n",
            "Epoch 3/10\n",
            "375/375 [==============================] - 1s 3ms/step - loss: 0.4303 - categorical_accuracy: 0.8510 - val_loss: 0.4232 - val_categorical_accuracy: 0.8493\n",
            "Epoch 4/10\n",
            "375/375 [==============================] - 1s 3ms/step - loss: 0.4099 - categorical_accuracy: 0.8565 - val_loss: 0.4119 - val_categorical_accuracy: 0.8558\n",
            "Epoch 5/10\n",
            "375/375 [==============================] - 1s 3ms/step - loss: 0.3899 - categorical_accuracy: 0.8637 - val_loss: 0.4057 - val_categorical_accuracy: 0.8585\n",
            "Epoch 6/10\n",
            "375/375 [==============================] - 1s 3ms/step - loss: 0.3812 - categorical_accuracy: 0.8670 - val_loss: 0.3975 - val_categorical_accuracy: 0.8588\n",
            "Epoch 7/10\n",
            "375/375 [==============================] - 1s 3ms/step - loss: 0.3653 - categorical_accuracy: 0.8701 - val_loss: 0.3867 - val_categorical_accuracy: 0.8629\n",
            "Epoch 8/10\n",
            "375/375 [==============================] - 1s 3ms/step - loss: 0.3619 - categorical_accuracy: 0.8727 - val_loss: 0.3884 - val_categorical_accuracy: 0.8610\n",
            "Epoch 9/10\n",
            "375/375 [==============================] - 1s 3ms/step - loss: 0.3545 - categorical_accuracy: 0.8746 - val_loss: 0.3830 - val_categorical_accuracy: 0.8640\n",
            "Epoch 10/10\n",
            "375/375 [==============================] - 1s 3ms/step - loss: 0.3413 - categorical_accuracy: 0.8775 - val_loss: 0.3721 - val_categorical_accuracy: 0.8689\n",
            "313/313 [==============================] - 0s 1ms/step - loss: 0.3949 - categorical_accuracy: 0.8603\n"
          ],
          "name": "stdout"
        },
        {
          "output_type": "execute_result",
          "data": {
            "text/plain": [
              "[0.39488232135772705, 0.8603000044822693]"
            ]
          },
          "metadata": {
            "tags": []
          },
          "execution_count": 35
        }
      ]
    },
    {
      "cell_type": "code",
      "metadata": {
        "colab": {
          "base_uri": "https://localhost:8080/"
        },
        "id": "ny-sJAt8sciS",
        "outputId": "ef0e34d1-a137-482b-ec8c-ed26bded80e5"
      },
      "source": [
        "model = tf.keras.models.Sequential([\n",
        "  tf.keras.layers.Dense(128, activation='relu', input_shape=(784,)),\n",
        "  tf.keras.layers.Dense(10,  activation=\"softmax\")\n",
        "])\n",
        "model.summary()\n",
        "\n",
        "model.compile(\n",
        "    optimizer = tf.keras.optimizers.Adam(),\n",
        "    loss      = tf.keras.losses.CategoricalCrossentropy(),\n",
        "    metrics   = [tf.keras.metrics.CategoricalAccuracy()],\n",
        ")\n",
        "\n",
        "model.fit(\n",
        "    x_train,y_train,\n",
        "    epochs=10,\n",
        "    batch_size= 128,\n",
        "    validation_split=0.2,\n",
        ")\n",
        "\n",
        "model.evaluate(x_test, y_test)"
      ],
      "id": "ny-sJAt8sciS",
      "execution_count": null,
      "outputs": [
        {
          "output_type": "stream",
          "text": [
            "Model: \"sequential_12\"\n",
            "_________________________________________________________________\n",
            "Layer (type)                 Output Shape              Param #   \n",
            "=================================================================\n",
            "dense_32 (Dense)             (None, 128)               100480    \n",
            "_________________________________________________________________\n",
            "dense_33 (Dense)             (None, 10)                1290      \n",
            "=================================================================\n",
            "Total params: 101,770\n",
            "Trainable params: 101,770\n",
            "Non-trainable params: 0\n",
            "_________________________________________________________________\n",
            "Epoch 1/10\n",
            "375/375 [==============================] - 2s 4ms/step - loss: 0.7807 - categorical_accuracy: 0.7415 - val_loss: 0.4418 - val_categorical_accuracy: 0.8471\n",
            "Epoch 2/10\n",
            "375/375 [==============================] - 2s 4ms/step - loss: 0.4228 - categorical_accuracy: 0.8509 - val_loss: 0.4203 - val_categorical_accuracy: 0.8485\n",
            "Epoch 3/10\n",
            "375/375 [==============================] - 1s 4ms/step - loss: 0.3889 - categorical_accuracy: 0.8640 - val_loss: 0.3812 - val_categorical_accuracy: 0.8633\n",
            "Epoch 4/10\n",
            "375/375 [==============================] - 2s 4ms/step - loss: 0.3593 - categorical_accuracy: 0.8710 - val_loss: 0.3745 - val_categorical_accuracy: 0.8615\n",
            "Epoch 5/10\n",
            "375/375 [==============================] - 1s 4ms/step - loss: 0.3257 - categorical_accuracy: 0.8835 - val_loss: 0.3563 - val_categorical_accuracy: 0.8742\n",
            "Epoch 6/10\n",
            "375/375 [==============================] - 1s 4ms/step - loss: 0.3021 - categorical_accuracy: 0.8906 - val_loss: 0.3491 - val_categorical_accuracy: 0.8777\n",
            "Epoch 7/10\n",
            "375/375 [==============================] - 1s 4ms/step - loss: 0.3017 - categorical_accuracy: 0.8911 - val_loss: 0.3462 - val_categorical_accuracy: 0.8755\n",
            "Epoch 8/10\n",
            "375/375 [==============================] - 1s 4ms/step - loss: 0.2907 - categorical_accuracy: 0.8955 - val_loss: 0.3487 - val_categorical_accuracy: 0.8756\n",
            "Epoch 9/10\n",
            "375/375 [==============================] - 1s 4ms/step - loss: 0.2849 - categorical_accuracy: 0.8966 - val_loss: 0.3289 - val_categorical_accuracy: 0.8840\n",
            "Epoch 10/10\n",
            "375/375 [==============================] - 1s 4ms/step - loss: 0.2711 - categorical_accuracy: 0.9007 - val_loss: 0.3373 - val_categorical_accuracy: 0.8836\n",
            "313/313 [==============================] - 0s 1ms/step - loss: 0.3598 - categorical_accuracy: 0.8755\n"
          ],
          "name": "stdout"
        },
        {
          "output_type": "execute_result",
          "data": {
            "text/plain": [
              "[0.3597518801689148, 0.8755000233650208]"
            ]
          },
          "metadata": {
            "tags": []
          },
          "execution_count": 36
        }
      ]
    },
    {
      "cell_type": "code",
      "metadata": {
        "colab": {
          "base_uri": "https://localhost:8080/"
        },
        "id": "wao-ZmS8xnBD",
        "outputId": "bcd34d14-113a-4e5d-913b-7f565754399f"
      },
      "source": [
        "model = tf.keras.models.Sequential([\n",
        "  tf.keras.layers.Dense(256, activation='relu', input_shape=(784,)),\n",
        "  tf.keras.layers.Dense(10,  activation=\"softmax\")\n",
        "])\n",
        "model.summary()\n",
        "\n",
        "model.compile(\n",
        "    optimizer = tf.keras.optimizers.Adam(),\n",
        "    loss      = tf.keras.losses.CategoricalCrossentropy(),\n",
        "    metrics   = [tf.keras.metrics.CategoricalAccuracy()],\n",
        ")\n",
        "\n",
        "model.fit(\n",
        "    x_train,y_train,\n",
        "    epochs=10,\n",
        "    batch_size= 128,\n",
        "    validation_split=0.2,\n",
        ")\n",
        "\n",
        "model.evaluate(x_test, y_test)"
      ],
      "id": "wao-ZmS8xnBD",
      "execution_count": null,
      "outputs": [
        {
          "output_type": "stream",
          "text": [
            "Model: \"sequential_13\"\n",
            "_________________________________________________________________\n",
            "Layer (type)                 Output Shape              Param #   \n",
            "=================================================================\n",
            "dense_34 (Dense)             (None, 256)               200960    \n",
            "_________________________________________________________________\n",
            "dense_35 (Dense)             (None, 10)                2570      \n",
            "=================================================================\n",
            "Total params: 203,530\n",
            "Trainable params: 203,530\n",
            "Non-trainable params: 0\n",
            "_________________________________________________________________\n",
            "Epoch 1/10\n",
            "375/375 [==============================] - 3s 6ms/step - loss: 0.7178 - categorical_accuracy: 0.7557 - val_loss: 0.4324 - val_categorical_accuracy: 0.8514\n",
            "Epoch 2/10\n",
            "375/375 [==============================] - 2s 6ms/step - loss: 0.4173 - categorical_accuracy: 0.8535 - val_loss: 0.3983 - val_categorical_accuracy: 0.8577\n",
            "Epoch 3/10\n",
            "375/375 [==============================] - 2s 6ms/step - loss: 0.3598 - categorical_accuracy: 0.8709 - val_loss: 0.3639 - val_categorical_accuracy: 0.8723\n",
            "Epoch 4/10\n",
            "375/375 [==============================] - 2s 6ms/step - loss: 0.3349 - categorical_accuracy: 0.8795 - val_loss: 0.3562 - val_categorical_accuracy: 0.8689\n",
            "Epoch 5/10\n",
            "375/375 [==============================] - 2s 6ms/step - loss: 0.3111 - categorical_accuracy: 0.8866 - val_loss: 0.3475 - val_categorical_accuracy: 0.8718\n",
            "Epoch 6/10\n",
            "375/375 [==============================] - 2s 6ms/step - loss: 0.2928 - categorical_accuracy: 0.8948 - val_loss: 0.3230 - val_categorical_accuracy: 0.8821\n",
            "Epoch 7/10\n",
            "375/375 [==============================] - 2s 6ms/step - loss: 0.2797 - categorical_accuracy: 0.8954 - val_loss: 0.3144 - val_categorical_accuracy: 0.8873\n",
            "Epoch 8/10\n",
            "375/375 [==============================] - 2s 6ms/step - loss: 0.2724 - categorical_accuracy: 0.9014 - val_loss: 0.3230 - val_categorical_accuracy: 0.8837\n",
            "Epoch 9/10\n",
            "375/375 [==============================] - 2s 6ms/step - loss: 0.2508 - categorical_accuracy: 0.9089 - val_loss: 0.3127 - val_categorical_accuracy: 0.8846\n",
            "Epoch 10/10\n",
            "375/375 [==============================] - 2s 6ms/step - loss: 0.2406 - categorical_accuracy: 0.9104 - val_loss: 0.3036 - val_categorical_accuracy: 0.8910\n",
            "313/313 [==============================] - 1s 2ms/step - loss: 0.3301 - categorical_accuracy: 0.8812\n"
          ],
          "name": "stdout"
        },
        {
          "output_type": "execute_result",
          "data": {
            "text/plain": [
              "[0.33014369010925293, 0.8812000155448914]"
            ]
          },
          "metadata": {
            "tags": []
          },
          "execution_count": 37
        }
      ]
    },
    {
      "cell_type": "code",
      "metadata": {
        "colab": {
          "base_uri": "https://localhost:8080/"
        },
        "id": "qn8cTwCatHps",
        "outputId": "d8652189-1837-4fbf-9e67-64d190c5f157"
      },
      "source": [
        "model = tf.keras.models.Sequential([\n",
        "  tf.keras.layers.Dense(32, activation='sigmoid', input_shape=(784,)),\n",
        "  tf.keras.layers.Dense(10,  activation=\"softmax\")\n",
        "])\n",
        "model.summary()\n",
        "\n",
        "model.compile(\n",
        "    optimizer = tf.keras.optimizers.Adam(),\n",
        "    loss      = tf.keras.losses.CategoricalCrossentropy(),\n",
        "    metrics   = [tf.keras.metrics.CategoricalAccuracy()],\n",
        ")\n",
        "\n",
        "model.fit(\n",
        "    x_train,y_train,\n",
        "    epochs=10,\n",
        "    batch_size= 128,\n",
        "    validation_split=0.2,\n",
        ")\n",
        "\n",
        "model.evaluate(x_test, y_test)"
      ],
      "id": "qn8cTwCatHps",
      "execution_count": null,
      "outputs": [
        {
          "output_type": "stream",
          "text": [
            "Model: \"sequential_14\"\n",
            "_________________________________________________________________\n",
            "Layer (type)                 Output Shape              Param #   \n",
            "=================================================================\n",
            "dense_36 (Dense)             (None, 32)                25120     \n",
            "_________________________________________________________________\n",
            "dense_37 (Dense)             (None, 10)                330       \n",
            "=================================================================\n",
            "Total params: 25,450\n",
            "Trainable params: 25,450\n",
            "Non-trainable params: 0\n",
            "_________________________________________________________________\n",
            "Epoch 1/10\n",
            "375/375 [==============================] - 2s 4ms/step - loss: 1.4587 - categorical_accuracy: 0.5854 - val_loss: 0.6685 - val_categorical_accuracy: 0.7971\n",
            "Epoch 2/10\n",
            "375/375 [==============================] - 1s 3ms/step - loss: 0.6279 - categorical_accuracy: 0.8033 - val_loss: 0.5138 - val_categorical_accuracy: 0.8321\n",
            "Epoch 3/10\n",
            "375/375 [==============================] - 1s 3ms/step - loss: 0.4974 - categorical_accuracy: 0.8360 - val_loss: 0.4628 - val_categorical_accuracy: 0.8419\n",
            "Epoch 4/10\n",
            "375/375 [==============================] - 1s 3ms/step - loss: 0.4485 - categorical_accuracy: 0.8482 - val_loss: 0.4313 - val_categorical_accuracy: 0.8508\n",
            "Epoch 5/10\n",
            "375/375 [==============================] - 1s 3ms/step - loss: 0.4196 - categorical_accuracy: 0.8556 - val_loss: 0.4107 - val_categorical_accuracy: 0.8583\n",
            "Epoch 6/10\n",
            "375/375 [==============================] - 1s 3ms/step - loss: 0.3923 - categorical_accuracy: 0.8651 - val_loss: 0.4013 - val_categorical_accuracy: 0.8596\n",
            "Epoch 7/10\n",
            "375/375 [==============================] - 1s 3ms/step - loss: 0.3825 - categorical_accuracy: 0.8651 - val_loss: 0.3899 - val_categorical_accuracy: 0.8637\n",
            "Epoch 8/10\n",
            "375/375 [==============================] - 1s 3ms/step - loss: 0.3712 - categorical_accuracy: 0.8705 - val_loss: 0.3803 - val_categorical_accuracy: 0.8668\n",
            "Epoch 9/10\n",
            "375/375 [==============================] - 1s 3ms/step - loss: 0.3618 - categorical_accuracy: 0.8740 - val_loss: 0.3740 - val_categorical_accuracy: 0.8682\n",
            "Epoch 10/10\n",
            "375/375 [==============================] - 1s 3ms/step - loss: 0.3459 - categorical_accuracy: 0.8778 - val_loss: 0.3686 - val_categorical_accuracy: 0.8710\n",
            "313/313 [==============================] - 0s 1ms/step - loss: 0.3971 - categorical_accuracy: 0.8596\n"
          ],
          "name": "stdout"
        },
        {
          "output_type": "execute_result",
          "data": {
            "text/plain": [
              "[0.3971218168735504, 0.8596000075340271]"
            ]
          },
          "metadata": {
            "tags": []
          },
          "execution_count": 38
        }
      ]
    },
    {
      "cell_type": "code",
      "metadata": {
        "colab": {
          "base_uri": "https://localhost:8080/"
        },
        "id": "zqdZHD5hyyQy",
        "outputId": "7e56bf5a-8b9a-4406-cded-b6c43d80808e"
      },
      "source": [
        "model = tf.keras.models.Sequential([\n",
        "  tf.keras.layers.Dense(128, activation='sigmoid', input_shape=(784,)),\n",
        "  tf.keras.layers.Dense(10,  activation=\"softmax\")\n",
        "])\n",
        "model.summary()\n",
        "\n",
        "model.compile(\n",
        "    optimizer = tf.keras.optimizers.Adam(),\n",
        "    loss      = tf.keras.losses.CategoricalCrossentropy(),\n",
        "    metrics   = [tf.keras.metrics.CategoricalAccuracy()],\n",
        ")\n",
        "\n",
        "model.fit(\n",
        "    x_train,y_train,\n",
        "    epochs=10,\n",
        "    batch_size= 128,\n",
        "    validation_split=0.2,\n",
        ")\n",
        "\n",
        "model.evaluate(x_test, y_test)"
      ],
      "id": "zqdZHD5hyyQy",
      "execution_count": null,
      "outputs": [
        {
          "output_type": "stream",
          "text": [
            "Model: \"sequential_15\"\n",
            "_________________________________________________________________\n",
            "Layer (type)                 Output Shape              Param #   \n",
            "=================================================================\n",
            "dense_38 (Dense)             (None, 128)               100480    \n",
            "_________________________________________________________________\n",
            "dense_39 (Dense)             (None, 10)                1290      \n",
            "=================================================================\n",
            "Total params: 101,770\n",
            "Trainable params: 101,770\n",
            "Non-trainable params: 0\n",
            "_________________________________________________________________\n",
            "Epoch 1/10\n",
            "375/375 [==============================] - 2s 5ms/step - loss: 1.0428 - categorical_accuracy: 0.6909 - val_loss: 0.5005 - val_categorical_accuracy: 0.8254\n",
            "Epoch 2/10\n",
            "375/375 [==============================] - 2s 4ms/step - loss: 0.4775 - categorical_accuracy: 0.8328 - val_loss: 0.4583 - val_categorical_accuracy: 0.8417\n",
            "Epoch 3/10\n",
            "375/375 [==============================] - 2s 4ms/step - loss: 0.4199 - categorical_accuracy: 0.8535 - val_loss: 0.4051 - val_categorical_accuracy: 0.8555\n",
            "Epoch 4/10\n",
            "375/375 [==============================] - 2s 4ms/step - loss: 0.3858 - categorical_accuracy: 0.8613 - val_loss: 0.3934 - val_categorical_accuracy: 0.8593\n",
            "Epoch 5/10\n",
            "375/375 [==============================] - 1s 4ms/step - loss: 0.3722 - categorical_accuracy: 0.8690 - val_loss: 0.3709 - val_categorical_accuracy: 0.8679\n",
            "Epoch 6/10\n",
            "375/375 [==============================] - 1s 4ms/step - loss: 0.3424 - categorical_accuracy: 0.8804 - val_loss: 0.3635 - val_categorical_accuracy: 0.8694\n",
            "Epoch 7/10\n",
            "375/375 [==============================] - 1s 4ms/step - loss: 0.3322 - categorical_accuracy: 0.8828 - val_loss: 0.3519 - val_categorical_accuracy: 0.8716\n",
            "Epoch 8/10\n",
            "375/375 [==============================] - 2s 4ms/step - loss: 0.3272 - categorical_accuracy: 0.8835 - val_loss: 0.3487 - val_categorical_accuracy: 0.8740\n",
            "Epoch 9/10\n",
            "375/375 [==============================] - 2s 4ms/step - loss: 0.3187 - categorical_accuracy: 0.8849 - val_loss: 0.3381 - val_categorical_accuracy: 0.8768\n",
            "Epoch 10/10\n",
            "375/375 [==============================] - 2s 4ms/step - loss: 0.3195 - categorical_accuracy: 0.8866 - val_loss: 0.3323 - val_categorical_accuracy: 0.8795\n",
            "313/313 [==============================] - 0s 1ms/step - loss: 0.3620 - categorical_accuracy: 0.8713\n"
          ],
          "name": "stdout"
        },
        {
          "output_type": "execute_result",
          "data": {
            "text/plain": [
              "[0.36203619837760925, 0.8712999820709229]"
            ]
          },
          "metadata": {
            "tags": []
          },
          "execution_count": 39
        }
      ]
    },
    {
      "cell_type": "code",
      "metadata": {
        "colab": {
          "base_uri": "https://localhost:8080/"
        },
        "id": "Hreq30XUyIXu",
        "outputId": "c617cedc-1cc3-4f4d-ef80-3041e6839749"
      },
      "source": [
        "model = tf.keras.models.Sequential([\n",
        "  tf.keras.layers.Dense(256, activation='sigmoid', input_shape=(784,)),\n",
        "  tf.keras.layers.Dense(10,  activation=\"softmax\")\n",
        "])\n",
        "model.summary()\n",
        "\n",
        "model.compile(\n",
        "    optimizer = tf.keras.optimizers.Adam(),\n",
        "    loss      = tf.keras.losses.CategoricalCrossentropy(),\n",
        "    metrics   = [tf.keras.metrics.CategoricalAccuracy()],\n",
        ")\n",
        "\n",
        "model.fit(\n",
        "    x_train,y_train,\n",
        "    epochs=10,\n",
        "    batch_size= 128,\n",
        "    validation_split=0.2,\n",
        ")\n",
        "\n",
        "model.evaluate(x_test, y_test)"
      ],
      "id": "Hreq30XUyIXu",
      "execution_count": null,
      "outputs": [
        {
          "output_type": "stream",
          "text": [
            "Model: \"sequential_16\"\n",
            "_________________________________________________________________\n",
            "Layer (type)                 Output Shape              Param #   \n",
            "=================================================================\n",
            "dense_40 (Dense)             (None, 256)               200960    \n",
            "_________________________________________________________________\n",
            "dense_41 (Dense)             (None, 10)                2570      \n",
            "=================================================================\n",
            "Total params: 203,530\n",
            "Trainable params: 203,530\n",
            "Non-trainable params: 0\n",
            "_________________________________________________________________\n",
            "Epoch 1/10\n",
            "375/375 [==============================] - 3s 6ms/step - loss: 0.9158 - categorical_accuracy: 0.7097 - val_loss: 0.4685 - val_categorical_accuracy: 0.8346\n",
            "Epoch 2/10\n",
            "375/375 [==============================] - 2s 6ms/step - loss: 0.4614 - categorical_accuracy: 0.8364 - val_loss: 0.4205 - val_categorical_accuracy: 0.8480\n",
            "Epoch 3/10\n",
            "375/375 [==============================] - 2s 6ms/step - loss: 0.4049 - categorical_accuracy: 0.8554 - val_loss: 0.3905 - val_categorical_accuracy: 0.8584\n",
            "Epoch 4/10\n",
            "375/375 [==============================] - 2s 6ms/step - loss: 0.3769 - categorical_accuracy: 0.8656 - val_loss: 0.3825 - val_categorical_accuracy: 0.8605\n",
            "Epoch 5/10\n",
            "375/375 [==============================] - 2s 5ms/step - loss: 0.3546 - categorical_accuracy: 0.8711 - val_loss: 0.3700 - val_categorical_accuracy: 0.8648\n",
            "Epoch 6/10\n",
            "375/375 [==============================] - 2s 6ms/step - loss: 0.3465 - categorical_accuracy: 0.8766 - val_loss: 0.3551 - val_categorical_accuracy: 0.8708\n",
            "Epoch 7/10\n",
            "375/375 [==============================] - 2s 6ms/step - loss: 0.3275 - categorical_accuracy: 0.8818 - val_loss: 0.3469 - val_categorical_accuracy: 0.8759\n",
            "Epoch 8/10\n",
            "375/375 [==============================] - 2s 6ms/step - loss: 0.3192 - categorical_accuracy: 0.8859 - val_loss: 0.3422 - val_categorical_accuracy: 0.8737\n",
            "Epoch 9/10\n",
            "375/375 [==============================] - 2s 6ms/step - loss: 0.3073 - categorical_accuracy: 0.8891 - val_loss: 0.3313 - val_categorical_accuracy: 0.8800\n",
            "Epoch 10/10\n",
            "375/375 [==============================] - 2s 6ms/step - loss: 0.2966 - categorical_accuracy: 0.8932 - val_loss: 0.3347 - val_categorical_accuracy: 0.8780\n",
            "313/313 [==============================] - 0s 2ms/step - loss: 0.3611 - categorical_accuracy: 0.8685\n"
          ],
          "name": "stdout"
        },
        {
          "output_type": "execute_result",
          "data": {
            "text/plain": [
              "[0.36105677485466003, 0.8684999942779541]"
            ]
          },
          "metadata": {
            "tags": []
          },
          "execution_count": 40
        }
      ]
    },
    {
      "cell_type": "markdown",
      "metadata": {
        "id": "DDJ_DATnZ9fU"
      },
      "source": [
        "Using relu as function 256 as hidden neurons has accuracy > 0.88, which is the best\n",
        "\n",
        "\n",
        "Q1.5 relu"
      ],
      "id": "DDJ_DATnZ9fU"
    },
    {
      "cell_type": "code",
      "metadata": {
        "colab": {
          "base_uri": "https://localhost:8080/"
        },
        "id": "F7SkJdnNZ8wG",
        "outputId": "ad337d6e-7656-4767-ee56-c5a2518a5bac"
      },
      "source": [
        "model = tf.keras.models.Sequential([\n",
        "  tf.keras.layers.Dense(256, activation='relu', input_shape=(784,)),\n",
        "  tf.keras.layers.Dense(128, activation=\"relu\"),\n",
        "  tf.keras.layers.Dense(32, activation=\"relu\"),\n",
        "  tf.keras.layers.Dense(10,  activation=\"softmax\")\n",
        "])\n",
        "model.summary()\n",
        "\n",
        "model.compile(\n",
        "    optimizer = tf.keras.optimizers.Adam(),\n",
        "    loss      = tf.keras.losses.CategoricalCrossentropy(),\n",
        "    metrics   = [tf.keras.metrics.CategoricalAccuracy()],\n",
        ")\n",
        "\n",
        "model.fit(\n",
        "    x_train,y_train,\n",
        "    epochs=10,\n",
        "    batch_size= 128,\n",
        "    validation_split=0.2,\n",
        ")\n",
        "\n",
        "model.evaluate(x_test, y_test)"
      ],
      "id": "F7SkJdnNZ8wG",
      "execution_count": null,
      "outputs": [
        {
          "output_type": "stream",
          "text": [
            "Model: \"sequential_17\"\n",
            "_________________________________________________________________\n",
            "Layer (type)                 Output Shape              Param #   \n",
            "=================================================================\n",
            "dense_42 (Dense)             (None, 256)               200960    \n",
            "_________________________________________________________________\n",
            "dense_43 (Dense)             (None, 128)               32896     \n",
            "_________________________________________________________________\n",
            "dense_44 (Dense)             (None, 32)                4128      \n",
            "_________________________________________________________________\n",
            "dense_45 (Dense)             (None, 10)                330       \n",
            "=================================================================\n",
            "Total params: 238,314\n",
            "Trainable params: 238,314\n",
            "Non-trainable params: 0\n",
            "_________________________________________________________________\n",
            "Epoch 1/10\n",
            "375/375 [==============================] - 3s 7ms/step - loss: 0.8022 - categorical_accuracy: 0.7179 - val_loss: 0.4390 - val_categorical_accuracy: 0.8496\n",
            "Epoch 2/10\n",
            "375/375 [==============================] - 3s 7ms/step - loss: 0.4043 - categorical_accuracy: 0.8544 - val_loss: 0.3922 - val_categorical_accuracy: 0.8566\n",
            "Epoch 3/10\n",
            "375/375 [==============================] - 3s 7ms/step - loss: 0.3452 - categorical_accuracy: 0.8725 - val_loss: 0.3679 - val_categorical_accuracy: 0.8671\n",
            "Epoch 4/10\n",
            "375/375 [==============================] - 3s 7ms/step - loss: 0.3179 - categorical_accuracy: 0.8829 - val_loss: 0.3327 - val_categorical_accuracy: 0.8806\n",
            "Epoch 5/10\n",
            "375/375 [==============================] - 2s 7ms/step - loss: 0.2987 - categorical_accuracy: 0.8896 - val_loss: 0.3279 - val_categorical_accuracy: 0.8821\n",
            "Epoch 6/10\n",
            "375/375 [==============================] - 3s 7ms/step - loss: 0.2815 - categorical_accuracy: 0.8950 - val_loss: 0.3309 - val_categorical_accuracy: 0.8806\n",
            "Epoch 7/10\n",
            "375/375 [==============================] - 2s 7ms/step - loss: 0.2652 - categorical_accuracy: 0.8994 - val_loss: 0.3246 - val_categorical_accuracy: 0.8811\n",
            "Epoch 8/10\n",
            "375/375 [==============================] - 3s 7ms/step - loss: 0.2561 - categorical_accuracy: 0.9040 - val_loss: 0.3200 - val_categorical_accuracy: 0.8839\n",
            "Epoch 9/10\n",
            "375/375 [==============================] - 3s 7ms/step - loss: 0.2392 - categorical_accuracy: 0.9125 - val_loss: 0.3500 - val_categorical_accuracy: 0.8771\n",
            "Epoch 10/10\n",
            "375/375 [==============================] - 3s 7ms/step - loss: 0.2406 - categorical_accuracy: 0.9094 - val_loss: 0.3186 - val_categorical_accuracy: 0.8888\n",
            "313/313 [==============================] - 0s 1ms/step - loss: 0.3426 - categorical_accuracy: 0.8837\n"
          ],
          "name": "stdout"
        },
        {
          "output_type": "execute_result",
          "data": {
            "text/plain": [
              "[0.3425880968570709, 0.8837000131607056]"
            ]
          },
          "metadata": {
            "tags": []
          },
          "execution_count": 41
        }
      ]
    },
    {
      "cell_type": "markdown",
      "metadata": {
        "id": "FEi_cA8Hjaor"
      },
      "source": [
        "Q1.5 Sigmoid with the same number of hidden neurons (32,128 or 256)"
      ],
      "id": "FEi_cA8Hjaor"
    },
    {
      "cell_type": "code",
      "metadata": {
        "colab": {
          "base_uri": "https://localhost:8080/"
        },
        "id": "_Ntz50opjZ_j",
        "outputId": "2f7d78dc-ab26-4bdf-bcd6-11fd9e912de6"
      },
      "source": [
        "model = tf.keras.models.Sequential([\n",
        "  tf.keras.layers.Dense(256, activation='sigmoid', input_shape=(784,)),\n",
        "  tf.keras.layers.Dense(128, activation=\"sigmoid\"),\n",
        "  tf.keras.layers.Dense(32, activation=\"sigmoid\"),\n",
        "  tf.keras.layers.Dense(10,  activation=\"softmax\")\n",
        "])\n",
        "model.summary()\n",
        "\n",
        "model.compile(\n",
        "    optimizer = tf.keras.optimizers.Adam(),\n",
        "    loss      = tf.keras.losses.CategoricalCrossentropy(),\n",
        "    metrics   = [tf.keras.metrics.CategoricalAccuracy()],\n",
        ")\n",
        "\n",
        "model.fit(\n",
        "    x_train,y_train,\n",
        "    epochs=10,\n",
        "    batch_size= 128,\n",
        "    validation_split=0.2,\n",
        ")\n",
        "\n",
        "model.evaluate(x_test, y_test)"
      ],
      "id": "_Ntz50opjZ_j",
      "execution_count": null,
      "outputs": [
        {
          "output_type": "stream",
          "text": [
            "Model: \"sequential_18\"\n",
            "_________________________________________________________________\n",
            "Layer (type)                 Output Shape              Param #   \n",
            "=================================================================\n",
            "dense_46 (Dense)             (None, 256)               200960    \n",
            "_________________________________________________________________\n",
            "dense_47 (Dense)             (None, 128)               32896     \n",
            "_________________________________________________________________\n",
            "dense_48 (Dense)             (None, 32)                4128      \n",
            "_________________________________________________________________\n",
            "dense_49 (Dense)             (None, 10)                330       \n",
            "=================================================================\n",
            "Total params: 238,314\n",
            "Trainable params: 238,314\n",
            "Non-trainable params: 0\n",
            "_________________________________________________________________\n",
            "Epoch 1/10\n",
            "375/375 [==============================] - 3s 7ms/step - loss: 1.5725 - categorical_accuracy: 0.5011 - val_loss: 0.6335 - val_categorical_accuracy: 0.7990\n",
            "Epoch 2/10\n",
            "375/375 [==============================] - 3s 7ms/step - loss: 0.5740 - categorical_accuracy: 0.8140 - val_loss: 0.4597 - val_categorical_accuracy: 0.8447\n",
            "Epoch 3/10\n",
            "375/375 [==============================] - 3s 7ms/step - loss: 0.4422 - categorical_accuracy: 0.8501 - val_loss: 0.4075 - val_categorical_accuracy: 0.8571\n",
            "Epoch 4/10\n",
            "375/375 [==============================] - 3s 7ms/step - loss: 0.3915 - categorical_accuracy: 0.8676 - val_loss: 0.3944 - val_categorical_accuracy: 0.8586\n",
            "Epoch 5/10\n",
            "375/375 [==============================] - 3s 7ms/step - loss: 0.3512 - categorical_accuracy: 0.8789 - val_loss: 0.3599 - val_categorical_accuracy: 0.8730\n",
            "Epoch 6/10\n",
            "375/375 [==============================] - 3s 7ms/step - loss: 0.3408 - categorical_accuracy: 0.8809 - val_loss: 0.3528 - val_categorical_accuracy: 0.8743\n",
            "Epoch 7/10\n",
            "375/375 [==============================] - 3s 7ms/step - loss: 0.3272 - categorical_accuracy: 0.8860 - val_loss: 0.3417 - val_categorical_accuracy: 0.8761\n",
            "Epoch 8/10\n",
            "375/375 [==============================] - 3s 7ms/step - loss: 0.3048 - categorical_accuracy: 0.8914 - val_loss: 0.3268 - val_categorical_accuracy: 0.8822\n",
            "Epoch 9/10\n",
            "375/375 [==============================] - 3s 7ms/step - loss: 0.2939 - categorical_accuracy: 0.8963 - val_loss: 0.3240 - val_categorical_accuracy: 0.8836\n",
            "Epoch 10/10\n",
            "375/375 [==============================] - 3s 7ms/step - loss: 0.2851 - categorical_accuracy: 0.8984 - val_loss: 0.3202 - val_categorical_accuracy: 0.8846\n",
            "313/313 [==============================] - 0s 2ms/step - loss: 0.3491 - categorical_accuracy: 0.8780\n"
          ],
          "name": "stdout"
        },
        {
          "output_type": "execute_result",
          "data": {
            "text/plain": [
              "[0.34912508726119995, 0.878000020980835]"
            ]
          },
          "metadata": {
            "tags": []
          },
          "execution_count": 42
        }
      ]
    },
    {
      "cell_type": "markdown",
      "metadata": {
        "id": "vb73KChTj5NI"
      },
      "source": [
        "The accuracy is < 0.88, therefore relu function is better with the same number of hidden neurons (32,128 or 256)\n"
      ],
      "id": "vb73KChTj5NI"
    },
    {
      "cell_type": "markdown",
      "metadata": {
        "id": "JTuCdWP-kL7r"
      },
      "source": [
        "Q1.5 Sigmoid with different numbers of neurons"
      ],
      "id": "JTuCdWP-kL7r"
    },
    {
      "cell_type": "code",
      "metadata": {
        "colab": {
          "base_uri": "https://localhost:8080/"
        },
        "id": "Mzu4sFrPkFOc",
        "outputId": "9b2ecc32-6107-4128-a049-3ecc24fdba8f"
      },
      "source": [
        "model = tf.keras.models.Sequential([\n",
        "  tf.keras.layers.Dense(300, activation='sigmoid', input_shape=(784,)),\n",
        "  tf.keras.layers.Dense(150, activation=\"sigmoid\"),\n",
        "  tf.keras.layers.Dense(42, activation=\"sigmoid\"),\n",
        "  tf.keras.layers.Dense(10,  activation=\"softmax\")\n",
        "])\n",
        "model.summary()\n",
        "\n",
        "model.compile(\n",
        "    optimizer = tf.keras.optimizers.Adam(),\n",
        "    loss      = tf.keras.losses.CategoricalCrossentropy(),\n",
        "    metrics   = [tf.keras.metrics.CategoricalAccuracy()],\n",
        ")\n",
        "\n",
        "model.fit(\n",
        "    x_train,y_train,\n",
        "    epochs=10,\n",
        "    batch_size= 128,\n",
        "    validation_split=0.2,\n",
        ")\n",
        "\n",
        "model.evaluate(x_test, y_test)"
      ],
      "id": "Mzu4sFrPkFOc",
      "execution_count": null,
      "outputs": [
        {
          "output_type": "stream",
          "text": [
            "Model: \"sequential_19\"\n",
            "_________________________________________________________________\n",
            "Layer (type)                 Output Shape              Param #   \n",
            "=================================================================\n",
            "dense_50 (Dense)             (None, 300)               235500    \n",
            "_________________________________________________________________\n",
            "dense_51 (Dense)             (None, 150)               45150     \n",
            "_________________________________________________________________\n",
            "dense_52 (Dense)             (None, 42)                6342      \n",
            "_________________________________________________________________\n",
            "dense_53 (Dense)             (None, 10)                430       \n",
            "=================================================================\n",
            "Total params: 287,422\n",
            "Trainable params: 287,422\n",
            "Non-trainable params: 0\n",
            "_________________________________________________________________\n",
            "Epoch 1/10\n",
            "375/375 [==============================] - 3s 8ms/step - loss: 1.4422 - categorical_accuracy: 0.5311 - val_loss: 0.5635 - val_categorical_accuracy: 0.8152\n",
            "Epoch 2/10\n",
            "375/375 [==============================] - 3s 8ms/step - loss: 0.5171 - categorical_accuracy: 0.8311 - val_loss: 0.4484 - val_categorical_accuracy: 0.8391\n",
            "Epoch 3/10\n",
            "375/375 [==============================] - 3s 8ms/step - loss: 0.4235 - categorical_accuracy: 0.8551 - val_loss: 0.4048 - val_categorical_accuracy: 0.8585\n",
            "Epoch 4/10\n",
            "375/375 [==============================] - 3s 8ms/step - loss: 0.3807 - categorical_accuracy: 0.8664 - val_loss: 0.3806 - val_categorical_accuracy: 0.8659\n",
            "Epoch 5/10\n",
            "375/375 [==============================] - 3s 8ms/step - loss: 0.3564 - categorical_accuracy: 0.8744 - val_loss: 0.3623 - val_categorical_accuracy: 0.8708\n",
            "Epoch 6/10\n",
            "375/375 [==============================] - 3s 8ms/step - loss: 0.3338 - categorical_accuracy: 0.8813 - val_loss: 0.3484 - val_categorical_accuracy: 0.8748\n",
            "Epoch 7/10\n",
            "375/375 [==============================] - 3s 8ms/step - loss: 0.3220 - categorical_accuracy: 0.8846 - val_loss: 0.3486 - val_categorical_accuracy: 0.8733\n",
            "Epoch 8/10\n",
            "375/375 [==============================] - 3s 8ms/step - loss: 0.2997 - categorical_accuracy: 0.8912 - val_loss: 0.3394 - val_categorical_accuracy: 0.8764\n",
            "Epoch 9/10\n",
            "375/375 [==============================] - 3s 8ms/step - loss: 0.2922 - categorical_accuracy: 0.8950 - val_loss: 0.3312 - val_categorical_accuracy: 0.8815\n",
            "Epoch 10/10\n",
            "375/375 [==============================] - 3s 8ms/step - loss: 0.2801 - categorical_accuracy: 0.8969 - val_loss: 0.3238 - val_categorical_accuracy: 0.8815\n",
            "313/313 [==============================] - 1s 2ms/step - loss: 0.3525 - categorical_accuracy: 0.8747\n"
          ],
          "name": "stdout"
        },
        {
          "output_type": "execute_result",
          "data": {
            "text/plain": [
              "[0.35245075821876526, 0.8747000098228455]"
            ]
          },
          "metadata": {
            "tags": []
          },
          "execution_count": 43
        }
      ]
    },
    {
      "cell_type": "markdown",
      "metadata": {
        "id": "G9TGDvuQkevh"
      },
      "source": [
        "In conclusion the relu function with number of hidden neurons (32,128 or 256) is the best setting with accuracy > 0.88.\n"
      ],
      "id": "G9TGDvuQkevh"
    }
  ]
}
